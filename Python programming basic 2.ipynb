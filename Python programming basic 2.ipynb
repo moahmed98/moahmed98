{
 "cells": [
  {
   "cell_type": "code",
   "execution_count": 5,
   "metadata": {},
   "outputs": [
    {
     "name": "stdout",
     "output_type": "stream",
     "text": [
      "enter the value in kilometers\n",
      "12\n",
      "The value of kilometers in miles is: 7.4566581743615235\n"
     ]
    }
   ],
   "source": [
    "#Q1. Write a Python program to convert kilometers to miles\n",
    "kms = int(input(\"enter the value in kilometers\\n\"))\n",
    "miles = kms/1.6093\n",
    "print(\"The value of kilometers in miles is:\", miles)"
   ]
  },
  {
   "cell_type": "code",
   "execution_count": 4,
   "metadata": {},
   "outputs": [
    {
     "name": "stdout",
     "output_type": "stream",
     "text": [
      "Enter the value in Celsius\n",
      "27\n",
      "The value of celsius in Fahrenheit is: 80.6\n"
     ]
    }
   ],
   "source": [
    "#Q2. Write a Python program to convert Celsius to Fahrenheit \n",
    "c = int(input(\"Enter the value in Celsius\\n\"))\n",
    "f = (c*1.8)+32\n",
    "print(\"The value of celsius in Fahrenheit is:\",f)"
   ]
  },
  {
   "cell_type": "code",
   "execution_count": 6,
   "metadata": {},
   "outputs": [
    {
     "name": "stdout",
     "output_type": "stream",
     "text": [
      "Please enter the year\n",
      "2021\n",
      "Please enter the month\n",
      "4\n",
      "     April 2021\n",
      "Mo Tu We Th Fr Sa Su\n",
      "          1  2  3  4\n",
      " 5  6  7  8  9 10 11\n",
      "12 13 14 15 16 17 18\n",
      "19 20 21 22 23 24 25\n",
      "26 27 28 29 30\n",
      "\n"
     ]
    }
   ],
   "source": [
    "#Q3. Write a Python program to display calendar\n",
    "import calendar\n",
    "year = int(input(\"Please enter the year\\n\"))\n",
    "month = int(input(\"Please enter the month\\n\"))\n",
    "print(calendar.month(year,month))"
   ]
  },
  {
   "cell_type": "code",
   "execution_count": 24,
   "metadata": {},
   "outputs": [
    {
     "name": "stdout",
     "output_type": "stream",
     "text": [
      "Enter the first variable\n",
      "7\n",
      "Enter the second variable\n",
      "8\n",
      "The swapped value of a is:8\n",
      " and the swapped value of b is: 7\n"
     ]
    }
   ],
   "source": [
    "#Q5 Write a Python program to swap two variables\n",
    "a = int(input(\"Enter the first variable\\n\"))\n",
    "b = int(input(\"Enter the second variable\\n\"))\n",
    "a = a+b\n",
    "b = a-b\n",
    "a = a-b\n",
    "print(f\"The swapped value of a is:{a}\\n the swapped value of b is: {b}\")"
   ]
  },
  {
   "cell_type": "markdown",
   "metadata": {},
   "source": [
    "## "
   ]
  },
  {
   "cell_type": "code",
   "execution_count": null,
   "metadata": {},
   "outputs": [],
   "source": []
  }
 ],
 "metadata": {
  "kernelspec": {
   "display_name": "Python 3",
   "language": "python",
   "name": "python3"
  },
  "language_info": {
   "codemirror_mode": {
    "name": "ipython",
    "version": 3
   },
   "file_extension": ".py",
   "mimetype": "text/x-python",
   "name": "python",
   "nbconvert_exporter": "python",
   "pygments_lexer": "ipython3",
   "version": "3.8.5"
  }
 },
 "nbformat": 4,
 "nbformat_minor": 4
}
